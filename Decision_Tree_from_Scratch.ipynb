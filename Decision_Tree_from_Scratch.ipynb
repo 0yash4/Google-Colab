{
  "nbformat": 4,
  "nbformat_minor": 0,
  "metadata": {
    "colab": {
      "provenance": [],
      "authorship_tag": "ABX9TyPCc8WjNLg1PmQW9FLtS9eM",
      "include_colab_link": true
    },
    "kernelspec": {
      "name": "python3",
      "display_name": "Python 3"
    },
    "language_info": {
      "name": "python"
    }
  },
  "cells": [
    {
      "cell_type": "markdown",
      "metadata": {
        "id": "view-in-github",
        "colab_type": "text"
      },
      "source": [
        "<a href=\"https://colab.research.google.com/github/0yash4/Google-Colab/blob/main/Decision_Tree_from_Scratch.ipynb\" target=\"_parent\"><img src=\"https://colab.research.google.com/assets/colab-badge.svg\" alt=\"Open In Colab\"/></a>"
      ]
    },
    {
      "cell_type": "markdown",
      "source": [
        "# Decision Trees\n",
        "## CART - Classification and Regression Trees\n",
        "### Entropy =\n",
        "### Gini Impurity =\n",
        "### Information Gain ="
      ],
      "metadata": {
        "id": "rbHfhOY22m2s"
      }
    },
    {
      "cell_type": "code",
      "execution_count": 1,
      "metadata": {
        "id": "UsP2ju0P2em1"
      },
      "outputs": [],
      "source": [
        "import pandas as pd\n",
        "import numpy as np"
      ]
    },
    {
      "cell_type": "code",
      "source": [
        "class Node:\n",
        "    def __init__(self, feature=None, threshold=None, left=None, right=None,*,value=None):\n",
        "        self.feature = feature\n",
        "        self.threshold = threshold\n",
        "        self.left = left\n",
        "        self.right = right\n",
        "        self.value = value\n",
        "\n",
        "    def is_leaf_node(self):\n",
        "        return self.value is not None\n",
        "\n",
        "class DecisionTreeClassifier:\n",
        "  def __init__(self, min_sample_split=2, max_depth=100, rootNode=None):\n",
        "    self.min_sample_split = min_sample_split\n",
        "    self.max_depth = max_depth\n",
        "    self.rootNode = rootNode\n",
        "\n",
        "  def check_purity(self, y):\n",
        "    if len(np.unique(y)) == 1:\n",
        "      return True\n",
        "    else:\n",
        "      return False\n",
        "\n",
        "  def calculateGiniImpurity(self, y):\n",
        "    values, counts = np.unique(y, return_counts=True)\n",
        "    probability = counts / len(y)\n",
        "    giniImpurity = 1 - np.sum(probability**2)\n",
        "    return giniImpurity\n",
        "\n",
        "  def calculateEntropy(self, y):\n",
        "    values, counts = np.unique(y, return_counts=True)\n",
        "    probability = counts / len(y)\n",
        "    entropy = -np.sum(probability * np.log2(probability))\n",
        "    return entropy\n",
        "\n",
        "  def calculateInformationGain(self, X, y):\n",
        "    parentEntropy = self.calculateEntropy(y)\n",
        "    values, counts = np.unique(X, return_counts=True)\n",
        "    info_gain = 0\n",
        "    num_bins = len(values)\n",
        "    bins = [(values[i] + values[i-1])/2 for i in range(1, num_bins)]\n",
        "    weightedEntropy = float('inf')\n",
        "    for j in range(1, len(bins)):\n",
        "      y_left = y[X <= bins[j]]\n",
        "      y_right = y[X > bins[j]]\n",
        "      entropy_left = self.calculateEntropy(y_left)\n",
        "      entropy_right = self.calculateEntropy(y_right)\n",
        "      weighted_entropy_temp = (len(y_left) / len(y)) * entropy_left + (len(y_right) / len(y)) * entropy_right\n",
        "      if weighted_entropy_temp < weightedEntropy:\n",
        "        weightedEntropy = weighted_entropy_temp\n",
        "      info_gain = parentEntropy - weightedEntropy\n",
        "    return info_gain\n",
        "\n",
        "  def best_split(self, X, y):\n",
        "   x_columns_info_gain: list[int] = []\n",
        "   for columns in range(X.shape[1]):\n",
        "    x_columns_info_gain.append(self.calculateInformationGain(X.iloc[:, columns], y))\n",
        "   best_feature_index = np.argmax(x_columns_info_gain)\n",
        "   best_feature_name = X.columns[best_feature_index]\n",
        "   return best_feature_name, best_feature_index\n",
        "\n",
        "  def best_threshold(self, X, y):\n",
        "    values, counts = np.unique(X, return_counts=True)\n",
        "    parent_entropy = self.calculateEntropy(y)\n",
        "    weighted_entropy_final = []\n",
        "    Bins = [values[i] + values[i-1]/2 for i in range(1, len(values))]\n",
        "    for i in Bins:\n",
        "      y_left = y[X <= i]\n",
        "      y_right = y[X > i]\n",
        "      weighted_entropy_temp = (len(y_left) / len(y)) * self.calculateEntropy(y_left) + (len(y_right) / len(y)) * self.calculateEntropy(y_right)\n",
        "      weighted_entropy = weighted_entropy_temp\n",
        "      weighted_entropy_final.append(weighted_entropy)\n",
        "    best_threshold = Bins[np.argmin(weighted_entropy_final)]\n",
        "    return best_threshold\n",
        "\n",
        "  def _grow_tree(self, X, y, depth=0, min_samples_split=2):\n",
        "    n_samples, n_features = X.shape\n",
        "    n_labels = len(np.unique(y))\n",
        "\n",
        "    # Stopping criteria\n",
        "    if (depth >= self.max_depth or\n",
        "        n_samples < self.min_sample_split or\n",
        "        self.check_purity(y)):\n",
        "        print(\"Shape of y:\", y.shape)  # Add this line for debugging\n",
        "        leaf_value = np.argmax(np.bincount(y.values.flatten()))\n",
        "        return Node(value=leaf_value)\n",
        "\n",
        "    # Find best split\n",
        "    best_feature_name, best_feature_index = self.best_split(X, y)\n",
        "    # Find best threshold\n",
        "    best_threshold = self.best_threshold(X.iloc[:, best_feature_index], y)\n",
        "\n",
        "    # Create child nodes\n",
        "    left_indices = X[X[best_feature_name] <= best_threshold]\n",
        "    right_indices = X[X[best_feature_name] > best_threshold]\n",
        "    left_y = y[X[best_feature_name] <= best_threshold]\n",
        "    right_y = y[X[best_feature_name] > best_threshold]\n",
        "    left = self._grow_tree(left_indices, left_y, depth+1)\n",
        "    right = self._grow_tree(right_indices, right_y, depth+1)\n",
        "    return Node(best_feature_index, best_threshold, left, right)\n",
        "\n",
        "  def fit(self, X, y):\n",
        "    self.root = self._grow_tree(X, y)\n",
        "    return self.rootNode\n",
        "\n",
        "  def _predict_single(self, x, node):\n",
        "        if node.value is not None:\n",
        "            return node.value\n",
        "\n",
        "        if x[node.feature] <= node.threshold:\n",
        "            return self._predict_single(x, node.left)\n",
        "        else:\n",
        "            return self._predict_single(x, node.right)\n",
        "\n",
        "  def predict(self, X):\n",
        "       return np.array([self._predict_single(x, self.root) for _, x in X.iterrows()])"
      ],
      "metadata": {
        "id": "CL4uYE47xwYk"
      },
      "execution_count": 51,
      "outputs": []
    },
    {
      "cell_type": "code",
      "source": [
        "X = np.random.randint(4, size=(100, 5))\n",
        "y = np.random.randint(2, size=(100, 1))\n",
        "X = pd.DataFrame(x, columns=['feature1', 'feature2', 'feature3', 'feature4', 'feature5'])\n",
        "y = pd.DataFrame(y)\n",
        "from sklearn.model_selection import train_test_split\n",
        "X_train, X_test, y_train, y_test = train_test_split(X, y, test_size=0.33, random_state=42)"
      ],
      "metadata": {
        "id": "v6rUmzg23AAg"
      },
      "execution_count": 52,
      "outputs": []
    },
    {
      "cell_type": "code",
      "source": [
        "dt = DecisionTreeClassifier(max_depth=4)\n",
        "dt.fit(X_train, y_train)"
      ],
      "metadata": {
        "id": "eknKYhTOT7X7",
        "colab": {
          "base_uri": "https://localhost:8080/"
        },
        "outputId": "64c5ba8f-746d-4a39-d3e3-77c8f1f6bcbf"
      },
      "execution_count": 60,
      "outputs": [
        {
          "output_type": "stream",
          "name": "stdout",
          "text": [
            "Shape of y: (14, 1)\n",
            "Shape of y: (8, 1)\n",
            "Shape of y: (3, 1)\n",
            "Shape of y: (3, 1)\n",
            "Shape of y: (2, 1)\n",
            "Shape of y: (2, 1)\n",
            "Shape of y: (11, 1)\n",
            "Shape of y: (8, 1)\n",
            "Shape of y: (2, 1)\n",
            "Shape of y: (3, 1)\n",
            "Shape of y: (8, 1)\n",
            "Shape of y: (3, 1)\n"
          ]
        }
      ]
    },
    {
      "cell_type": "code",
      "source": [
        "y_pred = dt.predict(X_test)"
      ],
      "metadata": {
        "id": "n1gycQ0MVQki"
      },
      "execution_count": 66,
      "outputs": []
    },
    {
      "cell_type": "code",
      "source": [
        "from sklearn.metrics import f1_score\n",
        "f1_score(y_test, y_pred, average='macro')"
      ],
      "metadata": {
        "colab": {
          "base_uri": "https://localhost:8080/"
        },
        "id": "KIywCkuEzlmj",
        "outputId": "c09117b9-d82c-43c2-92aa-fee263daff2f"
      },
      "execution_count": 69,
      "outputs": [
        {
          "output_type": "execute_result",
          "data": {
            "text/plain": [
              "0.37969924812030076"
            ]
          },
          "metadata": {},
          "execution_count": 69
        }
      ]
    },
    {
      "cell_type": "code",
      "source": [
        "from sklearn.tree import DecisionTreeClassifier\n",
        "clf = DecisionTreeClassifier(random_state=0)\n",
        "clf.fit(X_train, y_train)"
      ],
      "metadata": {
        "id": "_cHGjQoDrLoq",
        "colab": {
          "base_uri": "https://localhost:8080/",
          "height": 75
        },
        "outputId": "fafb98d1-4f9f-4eb8-b23f-81b69d2db471"
      },
      "execution_count": 70,
      "outputs": [
        {
          "output_type": "execute_result",
          "data": {
            "text/plain": [
              "DecisionTreeClassifier(random_state=0)"
            ],
            "text/html": [
              "<style>#sk-container-id-1 {color: black;background-color: white;}#sk-container-id-1 pre{padding: 0;}#sk-container-id-1 div.sk-toggleable {background-color: white;}#sk-container-id-1 label.sk-toggleable__label {cursor: pointer;display: block;width: 100%;margin-bottom: 0;padding: 0.3em;box-sizing: border-box;text-align: center;}#sk-container-id-1 label.sk-toggleable__label-arrow:before {content: \"▸\";float: left;margin-right: 0.25em;color: #696969;}#sk-container-id-1 label.sk-toggleable__label-arrow:hover:before {color: black;}#sk-container-id-1 div.sk-estimator:hover label.sk-toggleable__label-arrow:before {color: black;}#sk-container-id-1 div.sk-toggleable__content {max-height: 0;max-width: 0;overflow: hidden;text-align: left;background-color: #f0f8ff;}#sk-container-id-1 div.sk-toggleable__content pre {margin: 0.2em;color: black;border-radius: 0.25em;background-color: #f0f8ff;}#sk-container-id-1 input.sk-toggleable__control:checked~div.sk-toggleable__content {max-height: 200px;max-width: 100%;overflow: auto;}#sk-container-id-1 input.sk-toggleable__control:checked~label.sk-toggleable__label-arrow:before {content: \"▾\";}#sk-container-id-1 div.sk-estimator input.sk-toggleable__control:checked~label.sk-toggleable__label {background-color: #d4ebff;}#sk-container-id-1 div.sk-label input.sk-toggleable__control:checked~label.sk-toggleable__label {background-color: #d4ebff;}#sk-container-id-1 input.sk-hidden--visually {border: 0;clip: rect(1px 1px 1px 1px);clip: rect(1px, 1px, 1px, 1px);height: 1px;margin: -1px;overflow: hidden;padding: 0;position: absolute;width: 1px;}#sk-container-id-1 div.sk-estimator {font-family: monospace;background-color: #f0f8ff;border: 1px dotted black;border-radius: 0.25em;box-sizing: border-box;margin-bottom: 0.5em;}#sk-container-id-1 div.sk-estimator:hover {background-color: #d4ebff;}#sk-container-id-1 div.sk-parallel-item::after {content: \"\";width: 100%;border-bottom: 1px solid gray;flex-grow: 1;}#sk-container-id-1 div.sk-label:hover label.sk-toggleable__label {background-color: #d4ebff;}#sk-container-id-1 div.sk-serial::before {content: \"\";position: absolute;border-left: 1px solid gray;box-sizing: border-box;top: 0;bottom: 0;left: 50%;z-index: 0;}#sk-container-id-1 div.sk-serial {display: flex;flex-direction: column;align-items: center;background-color: white;padding-right: 0.2em;padding-left: 0.2em;position: relative;}#sk-container-id-1 div.sk-item {position: relative;z-index: 1;}#sk-container-id-1 div.sk-parallel {display: flex;align-items: stretch;justify-content: center;background-color: white;position: relative;}#sk-container-id-1 div.sk-item::before, #sk-container-id-1 div.sk-parallel-item::before {content: \"\";position: absolute;border-left: 1px solid gray;box-sizing: border-box;top: 0;bottom: 0;left: 50%;z-index: -1;}#sk-container-id-1 div.sk-parallel-item {display: flex;flex-direction: column;z-index: 1;position: relative;background-color: white;}#sk-container-id-1 div.sk-parallel-item:first-child::after {align-self: flex-end;width: 50%;}#sk-container-id-1 div.sk-parallel-item:last-child::after {align-self: flex-start;width: 50%;}#sk-container-id-1 div.sk-parallel-item:only-child::after {width: 0;}#sk-container-id-1 div.sk-dashed-wrapped {border: 1px dashed gray;margin: 0 0.4em 0.5em 0.4em;box-sizing: border-box;padding-bottom: 0.4em;background-color: white;}#sk-container-id-1 div.sk-label label {font-family: monospace;font-weight: bold;display: inline-block;line-height: 1.2em;}#sk-container-id-1 div.sk-label-container {text-align: center;}#sk-container-id-1 div.sk-container {/* jupyter's `normalize.less` sets `[hidden] { display: none; }` but bootstrap.min.css set `[hidden] { display: none !important; }` so we also need the `!important` here to be able to override the default hidden behavior on the sphinx rendered scikit-learn.org. See: https://github.com/scikit-learn/scikit-learn/issues/21755 */display: inline-block !important;position: relative;}#sk-container-id-1 div.sk-text-repr-fallback {display: none;}</style><div id=\"sk-container-id-1\" class=\"sk-top-container\"><div class=\"sk-text-repr-fallback\"><pre>DecisionTreeClassifier(random_state=0)</pre><b>In a Jupyter environment, please rerun this cell to show the HTML representation or trust the notebook. <br />On GitHub, the HTML representation is unable to render, please try loading this page with nbviewer.org.</b></div><div class=\"sk-container\" hidden><div class=\"sk-item\"><div class=\"sk-estimator sk-toggleable\"><input class=\"sk-toggleable__control sk-hidden--visually\" id=\"sk-estimator-id-1\" type=\"checkbox\" checked><label for=\"sk-estimator-id-1\" class=\"sk-toggleable__label sk-toggleable__label-arrow\">DecisionTreeClassifier</label><div class=\"sk-toggleable__content\"><pre>DecisionTreeClassifier(random_state=0)</pre></div></div></div></div></div>"
            ]
          },
          "metadata": {},
          "execution_count": 70
        }
      ]
    },
    {
      "cell_type": "code",
      "source": [
        "y_pred1 = clf.predict(X_test)"
      ],
      "metadata": {
        "id": "T-EaG0QHnYB3"
      },
      "execution_count": 71,
      "outputs": []
    },
    {
      "cell_type": "code",
      "source": [
        "from sklearn.metrics import f1_score\n",
        "f1_score(y_test, y_pred1, average='weighted')"
      ],
      "metadata": {
        "colab": {
          "base_uri": "https://localhost:8080/"
        },
        "id": "INpwXFZMnbLB",
        "outputId": "6edf60f0-338f-424d-a105-11c55da19285"
      },
      "execution_count": 73,
      "outputs": [
        {
          "output_type": "execute_result",
          "data": {
            "text/plain": [
              "0.43403964456596034"
            ]
          },
          "metadata": {},
          "execution_count": 73
        }
      ]
    },
    {
      "cell_type": "code",
      "source": [],
      "metadata": {
        "id": "VluIjqSxnewq"
      },
      "execution_count": null,
      "outputs": []
    }
  ]
}